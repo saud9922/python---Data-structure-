{
 "cells": [
  {
   "cell_type": "code",
   "execution_count": null,
   "id": "8a3458d7-7c4f-4a7d-a338-eee333e1a734",
   "metadata": {},
   "outputs": [],
   "source": [
    "'''\n",
    "Q.1) What are data structures, and why are they important?\n",
    "->   The process of storing collection of  data into different types of container like list, sets, array,\n",
    "     tuple, dictionary are known as data structures.\n",
    "     data structures are important for fast and efficient coding experience \n",
    "\n",
    "Q.2) Explain the difference between mutable and immutable data types with examples?\n",
    "->   An mutable data type can be alter after describing (eg: list,sets,dictionary)on the other side\n",
    "     immutable data types cannot be alter once described (eg: str,int,float,boolean value)\n",
    "\n",
    "Q.3) What are the main differences between lists and tuples in Python?\n",
    "->   lists are mutable and tuples are immutable.\n",
    "\n",
    "Q.4) Describe how dictionaries store data?\n",
    "->   dictionaries store data in the form of key : value pair in which the value is assign to key and can be modify.\n",
    "\n",
    "Q.5) Why might you use a set instead? of a list in Python?\n",
    "->   A set can be use in case of storing only unique value means set removes the duplicate value present inside it\n",
    "\n",
    "Q.6) What is a string in Python, and how is it different from a list?\n",
    "->   string in python is use to store textual data inside  \" \" which is immutable.list can store multiple data types like int,str,float inside [] which \n",
    "     is mutable \n",
    "\n",
    "Q.7) How do tuples ensure data integrity in Python?\n",
    "->   tuples are developed to store fix data, tuples are immutable that ensure the data integrity.\n",
    "\n",
    "Q.8) What is a hash table, and how does it relate to dictionaries in Python?\n",
    "->   hash table can be called as a data structure which maps the keys to values using a hash function.\n",
    "     the keys here are known as index which represent the values.\n",
    "\n",
    "Q.9) can lists contain different data types in Python?\n",
    "->   yes, list can contain different data types in python like str,int,float,boolean \n",
    "\n",
    "Q.10) Explain why strings are immutable in Python?\n",
    "->   strings are immutable for maintaing security and integrity.\n",
    "\n",
    "Q.11) What advantages do dictionaries offer over lists for certain tasks?\n",
    "->    Dictionaries are more efficient and offers a fast look up than lists using a key value pair.\n",
    "\n",
    "Q.12) How do sets handle duplicate values in Python?\n",
    "->    set automaically removes the duplicate data present in it. set is a collection of data where items are stored in unordered way.\n",
    "      adding an duplicate item to set also relsuts the same means python will ignore the duplicate item and keep the set unchanged \n",
    "      \n",
    "Q.13) Describe a scenario where using a tuple would be preferable over a list?\n",
    "->    tuples are used to store fixed values,in situations where a user wants to store values for a aadhar card no ,pan card no, employee ID,date\n",
    "      of birth,etc.In this cases the values are permanent so, obivously tuples are most useful than list \n",
    "      \n",
    "Q.14) How does the “in” keyword work differently for lists and dictionaries? \n",
    "->    the “in” keyword is use to check membership in both but it in dictionaries it only checks the key for example {\"name\":\"saud\"} if try with \n",
    "      \"name\"(key) it will return true but if try with saud(value) it will reutrn false \n",
    "\n",
    "Q.15) Can you modify the elements of a tuple? Explain why or why not?\n",
    "->    Tuples are collection of data used to store fixed and permanent values in which ther is no need to change or alter the data in future it will \n",
    "      remain the same no matter what the is  situtaion. The immutable charecteristic of tuples dont allow to modify or alter a element present in it.\n",
    "\n",
    "Q.16) What is a nested dictionary, and give an example of its use case?\n",
    "->    A nested dictionary is a dictionary inside another dictionary.providing mulitiple level innformation.\n",
    "      nested dictionaries is useful to store complex data like {\"name\": \"saud\", \"age\": 20, \"subjects\": [\"Math\", \"Physics\"]} \n",
    "      \n",
    "Q.17) Describe the time complexity of accessing elements in a dictionary?\n",
    "->    Since hashing and lookup in a well-implemented hash table take constant time, most dictionary operations run in O(1).  \n",
    "\n",
    "Q.18) In what situations are lists preferred over dictionaries?\n",
    "->    lists can be more preferable in the situation where the data is hetrogenous and to be stored in ordered form and can be acess through index\n",
    "      num instead of key\n",
    "       \n",
    "Q.19) Why are dictionaries considered unordered, and how does that affect data retrieval?\n",
    "->    Historically, Python dictionaries were unordered because they used hash tables for storage, which didn't maintain insertion order. However, \n",
    "      starting from Python 3.7, dictionaries preserve insertion order as an implementation detail, and in Python 3.8+, it is officially guaranteed.\n",
    "      \n",
    "Q.20) Explain the difference between a list and a dictionary in terms of data retrieval.\n",
    "->    in list the data is retrieve using Index-based (list[index]) whereas in dictionaries the index is switch to  Key-based (dict[key])\n",
    "'''"
   ]
  },
  {
   "cell_type": "code",
   "execution_count": 1,
   "id": "f7984567-3cd6-4924-9edd-2cd42daa8da9",
   "metadata": {},
   "outputs": [
    {
     "name": "stdout",
     "output_type": "stream",
     "text": [
      "Saud Siddique Mom\n"
     ]
    }
   ],
   "source": [
    "#practical questions \n",
    "#Q.1) Write a code to create a string with your name and print it.\n",
    "name = \"Saud Siddique Mom\"\n",
    "print(name)"
   ]
  },
  {
   "cell_type": "code",
   "execution_count": 13,
   "id": "b93afc98-6a6a-4009-ba1d-eec06b33f004",
   "metadata": {},
   "outputs": [
    {
     "name": "stdout",
     "output_type": "stream",
     "text": [
      "the lenght of the character is 11\n"
     ]
    }
   ],
   "source": [
    "#Q.2) Write a code to find the length of the string \"Hello World\"\n",
    "character = \"Hello World\"\n",
    "print(\"the lenght of the character is\", len(character))"
   ]
  },
  {
   "cell_type": "code",
   "execution_count": 15,
   "id": "dcf17632-d807-44ab-9c34-67b20f5df9e8",
   "metadata": {},
   "outputs": [
    {
     "data": {
      "text/plain": [
       "'Pyt'"
      ]
     },
     "execution_count": 15,
     "metadata": {},
     "output_type": "execute_result"
    }
   ],
   "source": [
    "#Q.3) Write a code to slice the first 3 characters from the string \"Python Programming\"\n",
    "my_str = \"Python Programming\"\n",
    "my_str [0:3]"
   ]
  },
  {
   "cell_type": "code",
   "execution_count": 17,
   "id": "257f2cca-862b-451a-b9b1-bd9863ee8cd3",
   "metadata": {},
   "outputs": [
    {
     "data": {
      "text/plain": [
       "'HELLO'"
      ]
     },
     "execution_count": 17,
     "metadata": {},
     "output_type": "execute_result"
    }
   ],
   "source": [
    "#Q.4) Write a code to convert the string \"hello\" to uppercase\n",
    "char = \"hello\"\n",
    "char.upper()"
   ]
  },
  {
   "cell_type": "code",
   "execution_count": 18,
   "id": "0aad1a31-8233-4de5-bb42-810176026b75",
   "metadata": {},
   "outputs": [
    {
     "data": {
      "text/plain": [
       "'I like orange'"
      ]
     },
     "execution_count": 18,
     "metadata": {},
     "output_type": "execute_result"
    }
   ],
   "source": [
    "#Q.5) Write a code to replace the word \"apple\" with \"orange\" in the string \"I like apple\"\n",
    "my_str =  \"I like apple\"\n",
    "my_str.replace(\"apple\",\"orange\")"
   ]
  },
  {
   "cell_type": "code",
   "execution_count": 19,
   "id": "a1f65b5d-eafa-4ca3-8ac4-82258beb18f9",
   "metadata": {},
   "outputs": [
    {
     "name": "stdout",
     "output_type": "stream",
     "text": [
      "[1, 2, 3, 4, 5]\n"
     ]
    }
   ],
   "source": [
    "#Q.6) Write a code to create a list with numbers 1 to 5 and print it\n",
    "my_list = [1,2,3,4,5]\n",
    "print(my_list)"
   ]
  },
  {
   "cell_type": "code",
   "execution_count": 24,
   "id": "34b4db3a-26b0-46af-a7d1-32cc970d7d91",
   "metadata": {},
   "outputs": [
    {
     "name": "stdout",
     "output_type": "stream",
     "text": [
      "[1, 2, 3, 4, 10]\n"
     ]
    }
   ],
   "source": [
    "#Q.7) Write a code to append the number 10 to the list [1, 2, 3, 4]\n",
    "my_list = [1, 2, 3, 4]\n",
    "my_list.append(10)\n",
    "print(my_list)"
   ]
  },
  {
   "cell_type": "code",
   "execution_count": 26,
   "id": "a5dbcaaf-42e9-4e63-b263-d699a5811871",
   "metadata": {},
   "outputs": [
    {
     "name": "stdout",
     "output_type": "stream",
     "text": [
      "[1, 2, 4, 5]\n"
     ]
    }
   ],
   "source": [
    "#Q.8) Write a code to remove the number 3 from the list [1, 2, 3, 4, 5]\n",
    "my_list = [1, 2, 3, 4, 5]\n",
    "my_list.remove(3)\n",
    "print(my_list)"
   ]
  },
  {
   "cell_type": "code",
   "execution_count": 27,
   "id": "770b489a-0e46-41e9-8100-a01fade9207b",
   "metadata": {},
   "outputs": [
    {
     "data": {
      "text/plain": [
       "'b'"
      ]
     },
     "execution_count": 27,
     "metadata": {},
     "output_type": "execute_result"
    }
   ],
   "source": [
    "#Q.9) Write a code to access the second element in the list ['a', 'b', 'c', 'd']\n",
    "my_list = ['a', 'b', 'c', 'd']\n",
    "my_list[1]"
   ]
  },
  {
   "cell_type": "code",
   "execution_count": 2,
   "id": "a24d221f-4b80-4ef2-a687-c053c9c834ce",
   "metadata": {},
   "outputs": [
    {
     "name": "stdout",
     "output_type": "stream",
     "text": [
      "[50, 40, 30, 20, 10]\n"
     ]
    }
   ],
   "source": [
    "#Q.10) Write a code to reverse the list [10, 20, 30, 40, 50].\n",
    "my_list = [10, 20, 30, 40, 50]\n",
    "my_list.reverse()\n",
    "print(my_list)"
   ]
  },
  {
   "cell_type": "code",
   "execution_count": 3,
   "id": "3b1b9895-1f8f-45bd-bffc-148b202d10d6",
   "metadata": {},
   "outputs": [
    {
     "name": "stdout",
     "output_type": "stream",
     "text": [
      "(100, 200, 300)\n"
     ]
    }
   ],
   "source": [
    "#Q.11) Write a code to create a tuple with the elements 100, 200, 300 and print it\n",
    "my_tuple = (100,200,300)\n",
    "print(my_tuple)"
   ]
  },
  {
   "cell_type": "code",
   "execution_count": 7,
   "id": "25ebee31-9d8b-4d80-8ad9-00a36b85b018",
   "metadata": {},
   "outputs": [
    {
     "data": {
      "text/plain": [
       "'blue'"
      ]
     },
     "execution_count": 7,
     "metadata": {},
     "output_type": "execute_result"
    }
   ],
   "source": [
    " #Q.12) Write a code to access the second-to-last element of the tuple ('red', 'green', 'blue', 'yellow')\n",
    "my_tuple = ('red', 'green', 'blue', 'yellow')\n",
    "my_tuple[-2]"
   ]
  },
  {
   "cell_type": "code",
   "execution_count": 3,
   "id": "1702947b-2eec-46d7-9de3-0aad9940a9d9",
   "metadata": {},
   "outputs": [
    {
     "name": "stdout",
     "output_type": "stream",
     "text": [
      "5\n"
     ]
    }
   ],
   "source": [
    "#Q.13) Write a code to find the minimum number in the tuple (10, 20, 5, 15).\n",
    "number = (10, 20, 5, 15)\n",
    "print(min(number))"
   ]
  },
  {
   "cell_type": "code",
   "execution_count": 7,
   "id": "62c7e143-dd0f-4c43-b123-6932f327538d",
   "metadata": {},
   "outputs": [
    {
     "data": {
      "text/plain": [
       "1"
      ]
     },
     "execution_count": 7,
     "metadata": {},
     "output_type": "execute_result"
    }
   ],
   "source": [
    "#Q.14)  Write a code to find the index of the element \"cat\" in the tuple ('dog', 'cat', 'rabbit').\n",
    "pet = ('dog', 'cat', 'rabbit')\n",
    "pet.index(\"cat\")"
   ]
  },
  {
   "cell_type": "code",
   "execution_count": 8,
   "id": "a4f25092-df04-42af-8897-5938f9c73dfe",
   "metadata": {},
   "outputs": [
    {
     "data": {
      "text/plain": [
       "True"
      ]
     },
     "execution_count": 8,
     "metadata": {},
     "output_type": "execute_result"
    }
   ],
   "source": [
    "#Q.15) Write a code to create a tuple containing three different fruits and check if \"kiwi\" is in it.\n",
    "fruits = (\"apple\",\"mango\",\"kiwi\")\n",
    "\"kiwi\" in fruits"
   ]
  },
  {
   "cell_type": "code",
   "execution_count": 9,
   "id": "dc35deb1-06cf-42bb-acd0-e56f9a188abc",
   "metadata": {},
   "outputs": [
    {
     "name": "stdout",
     "output_type": "stream",
     "text": [
      "{'c', 'a', 'b'}\n"
     ]
    }
   ],
   "source": [
    "#Q.16) Write a code to create a set with the elements 'a', 'b', 'c' and print it.\n",
    "\n",
    "elements = {'a', 'b', 'c'} \n",
    "print(elements)"
   ]
  },
  {
   "cell_type": "code",
   "execution_count": 12,
   "id": "bed05419-42bc-48c8-a0e3-d9f743d2c5ab",
   "metadata": {},
   "outputs": [
    {
     "name": "stdout",
     "output_type": "stream",
     "text": [
      "set()\n"
     ]
    }
   ],
   "source": [
    "#Q.17) Write a code to clear all elements from the set {1, 2, 3, 4, 5}.\n",
    "my_set = {1, 2, 3, 4, 5}\n",
    "my_set.clear()\n",
    "print(my_set)"
   ]
  },
  {
   "cell_type": "code",
   "execution_count": 17,
   "id": "fde7a330-1b71-47f6-8845-ccc8df050ebd",
   "metadata": {},
   "outputs": [
    {
     "name": "stdout",
     "output_type": "stream",
     "text": [
      "{1, 2, 3}\n"
     ]
    }
   ],
   "source": [
    "#Q.18) Write a code to remove the element 4 from the set {1, 2, 3, 4}.\n",
    "my_set = {1, 2, 3, 4}\n",
    "my_set.remove(4)\n",
    "print(my_set)"
   ]
  },
  {
   "cell_type": "code",
   "execution_count": 19,
   "id": "8c383443-2fa5-44b7-94f1-aff02ab4f769",
   "metadata": {},
   "outputs": [
    {
     "name": "stdout",
     "output_type": "stream",
     "text": [
      "Union of the sets: {1, 2, 3, 4, 5}\n"
     ]
    }
   ],
   "source": [
    "#Q.19) Write a code to find the union of two sets {1, 2, 3} and {3, 4, 5}.\n",
    "\n",
    "set1 = {1, 2, 3}\n",
    "set2 = {3, 4, 5}\n",
    "union_set = set1 | set2\n",
    "print(\"Union of the sets:\", union_set)\n"
   ]
  },
  {
   "cell_type": "code",
   "execution_count": 20,
   "id": "5e10e37e-f3c2-404a-9cb6-1bf81a36f99f",
   "metadata": {},
   "outputs": [
    {
     "name": "stdout",
     "output_type": "stream",
     "text": [
      "Intersection of the sets: {2, 3}\n"
     ]
    }
   ],
   "source": [
    "#Q.20) Write a code to find the intersection of two sets {1, 2, 3} and {2, 3, 4}.\n",
    "set1 = {1, 2, 3}\n",
    "set2 = {2, 3, 4}\n",
    "intersection_set = set1 & set2\n",
    "print(\"Intersection of the sets:\", intersection_set)\n"
   ]
  },
  {
   "cell_type": "code",
   "execution_count": 26,
   "id": "45d025c7-9940-44fd-9d9e-4fb6dcd0f29b",
   "metadata": {},
   "outputs": [
    {
     "name": "stdout",
     "output_type": "stream",
     "text": [
      "{'name': 'saud', 'age': 23, 'city': 'mumbai'}\n"
     ]
    }
   ],
   "source": [
    "#Q.21) Write a code to create a dictionary with the keys \"name\", \"age\", and \"city\", and print it.\n",
    "my_dictionary = {\"name\": \"saud\", \"age\":23,\"city\":\"mumbai\"}\n",
    "\n",
    "print(my_dictionary)"
   ]
  },
  {
   "cell_type": "code",
   "execution_count": 7,
   "id": "beefa86e-b809-4302-bf20-344c4e1f248e",
   "metadata": {},
   "outputs": [
    {
     "name": "stdout",
     "output_type": "stream",
     "text": [
      "{'name': 'john', 'age': 25, 'country': 'USA'}\n"
     ]
    }
   ],
   "source": [
    "#Q.22) Write a code to add a new key-value pair \"country\": \"USA\" to the dictionary {'name': 'John', 'age': 25}.\n",
    "my_dictionary1 = {\"name\": \"john\", \"age\":25}\n",
    "my_dictionary1[\"country\"] = \"USA\"\n",
    "print(my_dictionary1)"
   ]
  },
  {
   "cell_type": "code",
   "execution_count": 6,
   "id": "3ba2f325-3603-446d-ad9d-e7df616d21a8",
   "metadata": {},
   "outputs": [
    {
     "data": {
      "text/plain": [
       "'Alice'"
      ]
     },
     "execution_count": 6,
     "metadata": {},
     "output_type": "execute_result"
    }
   ],
   "source": [
    "#Q.23) Write a code to access the value associated with the key \"name\" in the dictionary {'name': 'Alice', 'age': 30}.\n",
    "dictionary = {'name': 'Alice', 'age': 30}\n",
    "dictionary[\"name\"]"
   ]
  },
  {
   "cell_type": "code",
   "execution_count": 40,
   "id": "d188a6f3-dd5a-4253-942c-b4f539b47060",
   "metadata": {},
   "outputs": [
    {
     "name": "stdout",
     "output_type": "stream",
     "text": [
      "{'name': 'Bob', 'city': 'New York'}\n"
     ]
    }
   ],
   "source": [
    "#Q.24) Write a code to remove the key \"age\" from the dictionary {'name': 'Bob', 'age': 22, 'city': 'New York'}\n",
    "dictionary1 = {'name': 'Bob', 'age': 22, 'city': 'New York'}\n",
    "del dictionary1[\"age\"]\n",
    "print(dictionary1)"
   ]
  },
  {
   "cell_type": "code",
   "execution_count": 46,
   "id": "09e508df-9e0f-420c-9506-8eae87bf9deb",
   "metadata": {},
   "outputs": [
    {
     "name": "stdout",
     "output_type": "stream",
     "text": [
      "True\n"
     ]
    }
   ],
   "source": [
    "#Q.25) Write a code to check if the key \"city\" exists in the dictionary {'name': 'Alice', 'city': 'Paris'}.\n",
    "dictionary2 = {'name': 'Alice', 'city': 'Paris'}\n",
    "print(\"city\" in dictionary2)"
   ]
  },
  {
   "cell_type": "code",
   "execution_count": 11,
   "id": "871fb255-b9ff-4574-9409-dcb6d84a7d34",
   "metadata": {},
   "outputs": [
    {
     "name": "stdout",
     "output_type": "stream",
     "text": [
      "[58, 'onion', 'brinjal', 'lemon', 9, 6]\n",
      "('mango', 'apple', 'lichi', 5, 8)\n",
      "{'name': 'saud', 'age': 23, 'city': 'mumbai'}\n"
     ]
    }
   ],
   "source": [
    "#Q.26) Write a code to create a list, a tuple, and a dictionary, and print them all.\n",
    "my_list = [58,\"onion\",\"brinjal\",\"lemon\",9,6]\n",
    "my_tuple =(\"mango\",\"apple\",\"lichi\",5,8)\n",
    "my_dictionary = {\"name\": \"saud\", \"age\":23,\"city\":\"mumbai\"}\n",
    "\n",
    "print(my_list),\n",
    "print(my_tuple)\n",
    "print(my_dictionary)\n"
   ]
  },
  {
   "cell_type": "code",
   "execution_count": 76,
   "id": "d40190d1-efcd-4bcb-9e7f-3d4da86a7e51",
   "metadata": {},
   "outputs": [
    {
     "name": "stdout",
     "output_type": "stream",
     "text": [
      "[7, 44, 59, 73, 82]\n"
     ]
    }
   ],
   "source": [
    "#Q.27) write a code to create a list of 5 random numbers between 1 and 100, sort it in ascending order, and print the  result.(replace)\n",
    "import random\n",
    "random_number = [random.randint(1,100) for i in range(5)]\n",
    "random_number.sort()\n",
    "print(random_number)\n"
   ]
  },
  {
   "cell_type": "code",
   "execution_count": 8,
   "id": "0157edba-b557-4b82-8e4e-620c6167abab",
   "metadata": {},
   "outputs": [
    {
     "data": {
      "text/plain": [
       "'andrew'"
      ]
     },
     "execution_count": 8,
     "metadata": {},
     "output_type": "execute_result"
    }
   ],
   "source": [
    "#Q.28) Write a code to create a list with strings and print the element at the third index.\n",
    "my_list1 = [\"john\",\"alex\",\"marira\",\"andrew\"]\n",
    "my_list1[3]"
   ]
  },
  {
   "cell_type": "code",
   "execution_count": 12,
   "id": "2d04c8be-1604-4b14-8cf3-e1b3048e17b7",
   "metadata": {},
   "outputs": [
    {
     "name": "stdout",
     "output_type": "stream",
     "text": [
      "{'name': 'saud', 'age': 25, 'city': 'mumbai', 'country': 'India'}\n"
     ]
    }
   ],
   "source": [
    "#Q.29)  Write a code to combine two dictionaries into one and print the result.\n",
    "\n",
    "dict1 = {\"name\": \"saud\", \"age\": 25}\n",
    "dict2 = {\"city\": \"mumbai\", \"country\": \"India\"}\n",
    "dict1.update(dict2)\n",
    "print(dict1)\n"
   ]
  },
  {
   "cell_type": "code",
   "execution_count": 13,
   "id": "64355fef-0ded-4166-ac18-fc5d95fb744c",
   "metadata": {},
   "outputs": [
    {
     "name": "stdout",
     "output_type": "stream",
     "text": [
      "{'cherry', 'apple', 'banana'}\n"
     ]
    }
   ],
   "source": [
    "#Q.30)  Write a code to convert a list of strings into a set.\n",
    "my_list = [\"apple\", \"banana\", \"cherry\", \"apple\", \"banana\"]\n",
    "my_set = set(my_list)\n",
    "print(my_set)\n"
   ]
  },
  {
   "cell_type": "code",
   "execution_count": null,
   "id": "7969c428-e7f7-4b43-b012-a7da92ef55b9",
   "metadata": {},
   "outputs": [],
   "source": []
  }
 ],
 "metadata": {
  "kernelspec": {
   "display_name": "Python 3 (ipykernel)",
   "language": "python",
   "name": "python3"
  },
  "language_info": {
   "codemirror_mode": {
    "name": "ipython",
    "version": 3
   },
   "file_extension": ".py",
   "mimetype": "text/x-python",
   "name": "python",
   "nbconvert_exporter": "python",
   "pygments_lexer": "ipython3",
   "version": "3.13.1"
  }
 },
 "nbformat": 4,
 "nbformat_minor": 5
}
